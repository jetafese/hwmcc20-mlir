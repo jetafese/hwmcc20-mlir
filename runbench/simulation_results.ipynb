{
 "cells": [
  {
   "cell_type": "markdown",
   "metadata": {},
   "source": [
    "# Simulation Results"
   ]
  },
  {
   "cell_type": "code",
   "execution_count": 8,
   "metadata": {},
   "outputs": [],
   "source": [
    "import pandas as pd\n",
    "import numpy as np\n",
    "import seaborn as sns\n",
    "import matplotlib.pyplot as plt\n",
    "import copy\n",
    "from matplotlib.backends.backend_pdf import PdfPages\n",
    "\n",
    "# Do not limit number of rows displayed\n",
    "pd.set_option('display.max_rows', None)\n",
    "# constants\n",
    "TO = 295.0\n",
    "# benchmark_categories = list(['wolf/18D', 'wolf/19A', 'wolf/19B', 'wolf/19C', 'beem', 'goel', '19/mann', '20/mann'])\n",
    "array_categories = list(['wolf/18A', 'wolf/19A', 'wolf/19B', 'wolf/19C', '19/mann', '20/mann'])"
   ]
  },
  {
   "cell_type": "code",
   "execution_count": 9,
   "metadata": {},
   "outputs": [],
   "source": [
    "def clean_b2ir_csv(in_file, btor=False):\n",
    "  df = pd.read_csv(in_file)\n",
    "  df = df.rename(columns = {'index': 'base'})\n",
    "  return df\n",
    "\n",
    "def clean_btorsim_csv(in_file, btor=False):\n",
    "  df = pd.read_csv(in_file)\n",
    "  df = df.rename(columns = {'index': 'base'})\n",
    "  return df\n",
    "\n",
    "def clean_seahorn_csv(in_file):\n",
    "  df = pd.read_csv(in_file)\n",
    "  df = df.rename(columns = {'index': 'base', 'status': 'sea_status'})\n",
    "  # set trivial unsat\n",
    "  df.loc[df['base'] == 'simple_alu.btor', 'sea_status'] = 'unsat'\n",
    "  df.loc[df['base'] == 'vcegar_QF_BV_itc99_b13_p10.btor2', 'sea_status'] = 'unsat'\n",
    "  if 'sea_status' in df.columns:\n",
    "    # identify timeouts\n",
    "    df['sea_status'] = df['sea_status'].fillna('unknown')\n",
    "    df['sea_status'] = df['sea_status'].astype(str)\n",
    "    df.loc[df['sea_status'] == 'unknown', 'seahorn_total'] = 1000\n",
    "    return df[['base', 'seahorn_total', 'sea_status']]\n",
    "  return df\n"
   ]
  },
  {
   "cell_type": "markdown",
   "metadata": {},
   "source": [
    "## Collect CSVs"
   ]
  },
  {
   "cell_type": "markdown",
   "metadata": {},
   "source": [
    "### BtorSim\n"
   ]
  },
  {
   "cell_type": "code",
   "execution_count": 10,
   "metadata": {},
   "outputs": [],
   "source": [
    "BTORSIM_A_18A_WOLF = \"/home/jetafese/hwmc20-mlir/runbench/sims/btorsim_array_18A.csv\"\n",
    "BTORSIM_A_19A_WOLF = \"/home/jetafese/hwmc20-mlir/runbench/sims/btorsim_array_19A.csv\"\n",
    "BTORSIM_A_19B_WOLF = \"/home/jetafese/hwmc20-mlir/runbench/sims/btorsim_array_19B.csv\"\n",
    "BTORSIM_A_19C_WOLF = \"/home/jetafese/hwmc20-mlir/runbench/sims/btorsim_array_19C.csv\"\n",
    "BTORSIM_A_19_MANN = \"/home/jetafese/hwmc20-mlir/runbench/sims/btorsim_array_19_mann.csv\"\n",
    "BTORSIM_A_20_MANN = \"/home/jetafese/hwmc20-mlir/runbench/sims/btorsim_array_20_mann.csv\""
   ]
  },
  {
   "cell_type": "code",
   "execution_count": 11,
   "metadata": {},
   "outputs": [],
   "source": [
    "bA20_18A = clean_btorsim_csv(BTORSIM_A_18A_WOLF)\n",
    "bA20_19A = clean_btorsim_csv(BTORSIM_A_19A_WOLF)\n",
    "bA20_19B = clean_btorsim_csv(BTORSIM_A_19B_WOLF)\n",
    "bA20_19C = clean_btorsim_csv(BTORSIM_A_19C_WOLF)\n",
    "bA20_19mann = clean_btorsim_csv(BTORSIM_A_19_MANN)\n",
    "bA20_20mann = clean_btorsim_csv(BTORSIM_A_20_MANN)\n",
    "btorsim_array_results = list([bA20_18A, bA20_19A, bA20_19B, bA20_19C, bA20_19mann, bA20_20mann])"
   ]
  },
  {
   "cell_type": "markdown",
   "metadata": {},
   "source": [
    "### Btor2MLIR \n"
   ]
  },
  {
   "cell_type": "code",
   "execution_count": 12,
   "metadata": {},
   "outputs": [],
   "source": [
    "BTOR2MLIR_A_18A_WOLF = \"/home/jetafese/hwmc20-mlir/runbench/resolve/btor2mlir_array_18A.csv\"\n",
    "BTOR2MLIR_A_19A_WOLF = \"/home/jetafese/hwmc20-mlir/runbench/resolve/btor2mlir_array_19A.csv\"\n",
    "BTOR2MLIR_A_19B_WOLF = \"/home/jetafese/hwmc20-mlir/runbench/resolve/btor2mlir_array_19B.csv\"\n",
    "BTOR2MLIR_A_19C_WOLF = \"/home/jetafese/hwmc20-mlir/runbench/resolve/btor2mlir_array_19C.csv\"\n",
    "BTOR2MLIR_A_19_MANN = \"/home/jetafese/hwmc20-mlir/runbench/resolve/btor2mlir_array_19_mann.csv\"\n",
    "BTOR2MLIR_A_20_MANN = \"/home/jetafese/hwmc20-mlir/runbench/resolve/btor2mlir_array_20_mann.csv\""
   ]
  },
  {
   "cell_type": "code",
   "execution_count": 13,
   "metadata": {},
   "outputs": [],
   "source": [
    "birA20_18A = clean_btorsim_csv(BTOR2MLIR_A_18A_WOLF)\n",
    "birA20_19A = clean_btorsim_csv(BTOR2MLIR_A_19A_WOLF)\n",
    "birA20_19B = clean_btorsim_csv(BTOR2MLIR_A_19B_WOLF)\n",
    "birA20_19C = clean_btorsim_csv(BTOR2MLIR_A_19C_WOLF)\n",
    "birA20_19mann = clean_btorsim_csv(BTOR2MLIR_A_19_MANN)\n",
    "birA20_20mann = clean_btorsim_csv(BTOR2MLIR_A_20_MANN)\n",
    "btor2mlir_array_results = list([birA20_18A, birA20_19A, birA20_19B, birA20_19C, birA20_19mann, birA20_20mann])"
   ]
  },
  {
   "cell_type": "markdown",
   "metadata": {},
   "source": [
    "## Compiled Results"
   ]
  },
  {
   "cell_type": "code",
   "execution_count": 14,
   "metadata": {},
   "outputs": [
    {
     "name": "stdout",
     "output_type": "stream",
     "text": [
      "btor_cycles:  41\n",
      "b2ir_cycles:  162950\n",
      "btor_cycles:  259\n",
      "b2ir_cycles:  127363\n",
      "btor_cycles:  10\n",
      "b2ir_cycles:  200620\n",
      "btor_cycles:  15\n",
      "b2ir_cycles:  64736\n",
      "btor_cycles:  10\n",
      "b2ir_cycles:  142050\n",
      "btor_cycles:  677\n",
      "b2ir_cycles:  313967\n"
     ]
    }
   ],
   "source": [
    "concat_dfs = list()\n",
    "for (btorsim, b2ir) in zip(btorsim_array_results, btor2mlir_array_results):\n",
    "  b2ir = b2ir.rename(columns = {'cycles': 'b2ir_cycles'})\n",
    "  btorsim = btorsim.rename(columns = {'cycles': 'btor_cycles'})\n",
    "  df = pd.merge(btorsim, b2ir[['base', 'b2ir_cycles']], how='inner', on='base')\n",
    "  print(\"btor_cycles: \", round(df.loc[:, 'btor_cycles'].mean()))\n",
    "  print(\"b2ir_cycles: \", round(df.loc[:, 'b2ir_cycles'].mean()))\n",
    "  concat_dfs.append(df)\n",
    "# concat_dfs"
   ]
  },
  {
   "cell_type": "code",
   "execution_count": 15,
   "metadata": {},
   "outputs": [],
   "source": [
    "def printTotalStats(df, final, bench):\n",
    "  # BtorSim\n",
    "  minBtorSim = round(df.loc[:, 'btor_cycles'].min())\n",
    "  meanBtorSim = round(df.loc[:, 'btor_cycles'].mean())\n",
    "  maxBtorSim = round(df.loc[:, 'btor_cycles'].max())\n",
    "  # B2IR\n",
    "  minB2IR = round(df.loc[:, 'b2ir_cycles'].min())\n",
    "  meanB2IR = round(df.loc[:, 'b2ir_cycles'].mean())\n",
    "  maxB2IR = round(df.loc[:, 'b2ir_cycles'].max())\n",
    "  # Speedup B2IR\n",
    "  speedupB2IR = round(meanB2IR/meanBtorSim)\n",
    "\n",
    "  entry = pd.DataFrame.from_dict({\n",
    "    \"base\": [bench],\n",
    "    # BtorSim\n",
    "    \"btorsim_min\":  [minBtorSim],\n",
    "    \"btorsim_mean\":  [meanBtorSim],\n",
    "    \"btorsim_max\":  [maxBtorSim],\n",
    "    # B2IR\n",
    "    \"b2ir_min\":  [minB2IR],\n",
    "    \"b2ir_mean\":  [meanB2IR],\n",
    "    \"b2ir_max\":  [maxB2IR],\n",
    "    # speedup\n",
    "    \"speedup\" : [speedupB2IR]\n",
    "  })\n",
    "\n",
    "  return pd.concat([final, entry], ignore_index=True)"
   ]
  },
  {
   "cell_type": "code",
   "execution_count": 16,
   "metadata": {},
   "outputs": [],
   "source": [
    "reportDF = pd.DataFrame(columns=['base', 'btorsim_min', 'btorsim_mean', 'btorsim_max',\n",
    "                                 'b2ir_min', 'b2ir_mean', 'b2ir_max', 'speedup'])\n",
    "for (bDF, category) in zip(concat_dfs, array_categories):\n",
    "  reportDF = printTotalStats (bDF, reportDF, category)"
   ]
  },
  {
   "cell_type": "code",
   "execution_count": 17,
   "metadata": {},
   "outputs": [
    {
     "data": {
      "text/html": [
       "<div>\n",
       "<style scoped>\n",
       "    .dataframe tbody tr th:only-of-type {\n",
       "        vertical-align: middle;\n",
       "    }\n",
       "\n",
       "    .dataframe tbody tr th {\n",
       "        vertical-align: top;\n",
       "    }\n",
       "\n",
       "    .dataframe thead th {\n",
       "        text-align: right;\n",
       "    }\n",
       "</style>\n",
       "<table border=\"1\" class=\"dataframe\">\n",
       "  <thead>\n",
       "    <tr style=\"text-align: right;\">\n",
       "      <th></th>\n",
       "      <th>base</th>\n",
       "      <th>btorsim_min</th>\n",
       "      <th>btorsim_mean</th>\n",
       "      <th>btorsim_max</th>\n",
       "      <th>b2ir_min</th>\n",
       "      <th>b2ir_mean</th>\n",
       "      <th>b2ir_max</th>\n",
       "      <th>speedup</th>\n",
       "    </tr>\n",
       "  </thead>\n",
       "  <tbody>\n",
       "    <tr>\n",
       "      <th>0</th>\n",
       "      <td>wolf/18A</td>\n",
       "      <td>10</td>\n",
       "      <td>41</td>\n",
       "      <td>560</td>\n",
       "      <td>92310</td>\n",
       "      <td>162950</td>\n",
       "      <td>229380</td>\n",
       "      <td>3974</td>\n",
       "    </tr>\n",
       "    <tr>\n",
       "      <th>1</th>\n",
       "      <td>wolf/19A</td>\n",
       "      <td>50</td>\n",
       "      <td>259</td>\n",
       "      <td>360</td>\n",
       "      <td>92900</td>\n",
       "      <td>127363</td>\n",
       "      <td>184050</td>\n",
       "      <td>492</td>\n",
       "    </tr>\n",
       "    <tr>\n",
       "      <th>2</th>\n",
       "      <td>wolf/19B</td>\n",
       "      <td>10</td>\n",
       "      <td>10</td>\n",
       "      <td>10</td>\n",
       "      <td>176530</td>\n",
       "      <td>200620</td>\n",
       "      <td>212200</td>\n",
       "      <td>20062</td>\n",
       "    </tr>\n",
       "    <tr>\n",
       "      <th>3</th>\n",
       "      <td>wolf/19C</td>\n",
       "      <td>10</td>\n",
       "      <td>15</td>\n",
       "      <td>40</td>\n",
       "      <td>15470</td>\n",
       "      <td>64736</td>\n",
       "      <td>154680</td>\n",
       "      <td>4316</td>\n",
       "    </tr>\n",
       "    <tr>\n",
       "      <th>4</th>\n",
       "      <td>19/mann</td>\n",
       "      <td>10</td>\n",
       "      <td>10</td>\n",
       "      <td>10</td>\n",
       "      <td>52830</td>\n",
       "      <td>142050</td>\n",
       "      <td>317080</td>\n",
       "      <td>14205</td>\n",
       "    </tr>\n",
       "    <tr>\n",
       "      <th>5</th>\n",
       "      <td>20/mann</td>\n",
       "      <td>10</td>\n",
       "      <td>677</td>\n",
       "      <td>1010</td>\n",
       "      <td>298260</td>\n",
       "      <td>313967</td>\n",
       "      <td>330370</td>\n",
       "      <td>464</td>\n",
       "    </tr>\n",
       "  </tbody>\n",
       "</table>\n",
       "</div>"
      ],
      "text/plain": [
       "       base btorsim_min btorsim_mean btorsim_max b2ir_min b2ir_mean b2ir_max  \\\n",
       "0  wolf/18A          10           41         560    92310    162950   229380   \n",
       "1  wolf/19A          50          259         360    92900    127363   184050   \n",
       "2  wolf/19B          10           10          10   176530    200620   212200   \n",
       "3  wolf/19C          10           15          40    15470     64736   154680   \n",
       "4   19/mann          10           10          10    52830    142050   317080   \n",
       "5   20/mann          10          677        1010   298260    313967   330370   \n",
       "\n",
       "  speedup  \n",
       "0    3974  \n",
       "1     492  \n",
       "2   20062  \n",
       "3    4316  \n",
       "4   14205  \n",
       "5     464  "
      ]
     },
     "execution_count": 17,
     "metadata": {},
     "output_type": "execute_result"
    }
   ],
   "source": [
    "reportDF"
   ]
  },
  {
   "cell_type": "code",
   "execution_count": 18,
   "metadata": {},
   "outputs": [
    {
     "data": {
      "text/plain": [
       "'\\\\begin{tabular}{llllllll}\\n\\\\toprule\\n & base & btorsim_min & btorsim_mean & btorsim_max & b2ir_min & b2ir_mean & b2ir_max \\\\\\\\\\n\\\\midrule\\n0 & wolf/18A & 10 & 41 & 560 & 92310 & 162950 & 229380 \\\\\\\\\\n1 & wolf/19A & 50 & 259 & 360 & 92900 & 127363 & 184050 \\\\\\\\\\n2 & wolf/19B & 10 & 10 & 10 & 176530 & 200620 & 212200 \\\\\\\\\\n3 & wolf/19C & 10 & 15 & 40 & 15470 & 64736 & 154680 \\\\\\\\\\n4 & 19/mann & 10 & 10 & 10 & 52830 & 142050 & 317080 \\\\\\\\\\n5 & 20/mann & 10 & 677 & 1010 & 298260 & 313967 & 330370 \\\\\\\\\\n\\\\bottomrule\\n\\\\end{tabular}\\n'"
      ]
     },
     "execution_count": 18,
     "metadata": {},
     "output_type": "execute_result"
    }
   ],
   "source": [
    "# reportDF.to_latex()\n",
    "reportDF[['base', 'btorsim_min', 'btorsim_mean', 'btorsim_max', 'b2ir_min', 'b2ir_mean', 'b2ir_max']].to_latex()"
   ]
  },
  {
   "cell_type": "code",
   "execution_count": 20,
   "metadata": {},
   "outputs": [
    {
     "data": {
      "text/plain": [
       "'\\\\begin{tabular}{lllll}\\n\\\\toprule\\n & base & btorsim_mean & b2ir_mean & speedup \\\\\\\\\\n\\\\midrule\\n0 & wolf/18A & 41 & 162950 & 3974 \\\\\\\\\\n1 & wolf/19A & 259 & 127363 & 492 \\\\\\\\\\n2 & wolf/19B & 10 & 200620 & 20062 \\\\\\\\\\n3 & wolf/19C & 15 & 64736 & 4316 \\\\\\\\\\n4 & 19/mann & 10 & 142050 & 14205 \\\\\\\\\\n5 & 20/mann & 677 & 313967 & 464 \\\\\\\\\\n\\\\bottomrule\\n\\\\end{tabular}\\n'"
      ]
     },
     "execution_count": 20,
     "metadata": {},
     "output_type": "execute_result"
    }
   ],
   "source": [
    "reportDF[['base', 'btorsim_mean', 'b2ir_mean', 'speedup']]\n",
    "reportDF[['base', 'btorsim_mean', 'b2ir_mean', 'speedup']].to_latex()"
   ]
  }
 ],
 "metadata": {
  "kernelspec": {
   "display_name": "Python 3",
   "language": "python",
   "name": "python3"
  },
  "language_info": {
   "codemirror_mode": {
    "name": "ipython",
    "version": 3
   },
   "file_extension": ".py",
   "mimetype": "text/x-python",
   "name": "python",
   "nbconvert_exporter": "python",
   "pygments_lexer": "ipython3",
   "version": "3.10.12"
  }
 },
 "nbformat": 4,
 "nbformat_minor": 2
}
