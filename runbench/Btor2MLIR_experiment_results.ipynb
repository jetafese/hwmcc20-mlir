{
  "nbformat": 4,
  "nbformat_minor": 0,
  "metadata": {
    "colab": {
      "provenance": [],
      "collapsed_sections": [
        "abuaRgHG1vnx",
        "FDrgi9IvEQBz",
        "x0qCvE-s7ALY",
        "vE9MQ8AJEYnE",
        "-s2SeRhiKWvG",
        "moif8MN4mioU",
        "bZrn_CONTjYP",
        "W7hE--jzb0MI",
        "qOEJAMZMbpHm",
        "8GL-R0yYcBSC",
        "0eWIRn1d2jl2"
      ],
      "include_colab_link": true
    },
    "kernelspec": {
      "name": "python3",
      "display_name": "Python 3"
    },
    "language_info": {
      "name": "python"
    }
  },
  "cells": [
    {
      "cell_type": "markdown",
      "metadata": {
        "id": "view-in-github",
        "colab_type": "text"
      },
      "source": [
        "<a href=\"https://colab.research.google.com/github/jetafese/hwmcc20-mlir/blob/main/runbench/Btor2MLIR_experiment_results.ipynb\" target=\"_parent\"><img src=\"https://colab.research.google.com/assets/colab-badge.svg\" alt=\"Open In Colab\"/></a>"
      ]
    },
    {
      "cell_type": "markdown",
      "source": [
        "#Btor2MLIR Experiment Results\n"
      ],
      "metadata": {
        "id": "OmLuGmP0SspF"
      }
    },
    {
      "cell_type": "markdown",
      "source": [
        "## Setup & Utilities"
      ],
      "metadata": {
        "id": "qnqiamJjEIM8"
      }
    },
    {
      "cell_type": "code",
      "execution_count": null,
      "metadata": {
        "id": "sPctUOqzSnOz"
      },
      "outputs": [],
      "source": [
        "import pandas as pd\n",
        "import numpy as np\n",
        "import seaborn as sns\n",
        "import matplotlib.pyplot as plt\n",
        "import copy\n",
        "from matplotlib.backends.backend_pdf import PdfPages\n",
        "\n",
        "# Do not limit number of rows displayed\n",
        "pd.set_option('display.max_rows', None)\n",
        "# constants\n",
        "TO = 295.0\n",
        "benchmark_categories = list(['wolf/18D', 'wolf/19A', 'wolf/19B', 'wolf/19C', 'beem', 'goel', '19/mann', '20/mann'])\n",
        "array_categories = list(['wolf/18A', 'wolf/19A', 'wolf/19B', 'wolf/19C', '19/mann', '20/mann'])"
      ]
    },
    {
      "cell_type": "code",
      "source": [
        "def clean_b2ir_csv(in_file, btor=False):\n",
        "  df = pd.read_csv(in_file)\n",
        "  df = df.rename(columns = {'index': 'base'})\n",
        "  return df\n",
        "\n",
        "def clean_btormc_csv(in_file, btor=False):\n",
        "  df = pd.read_csv(in_file)\n",
        "  df = df.rename(columns = {'index': 'base'})\n",
        "  # handle special cases where trivially unsat\n",
        "  df.loc[df['base'] == 'simple_alu.btor', 'status'] = 'unsat'\n",
        "  df.loc[df['base'] == 'vcegar_QF_BV_itc99_b13_p10.btor2', 'status'] = 'unsat'\n",
        "  # identify timeouts\n",
        "  df['status'] = df['status'].fillna('unknown')\n",
        "  df['status'] = df['status'].astype(str)\n",
        "  df.loc[df['status'] == 'unknown', 'btor_time'] = 1000\n",
        "  if btor:\n",
        "    df = df.rename(columns = {'status': 'btor_status'})\n",
        "  else:\n",
        "    df = df.rename(columns = {'btor_time': 'btormc_time'})\n",
        "  return df\n",
        "\n",
        "def clean_seahorn_csv(in_file):\n",
        "  df = pd.read_csv(in_file)\n",
        "  df = df.rename(columns = {'index': 'base', 'status': 'sea_status'})\n",
        "  # set trivial unsat\n",
        "  df.loc[df['base'] == 'simple_alu.btor', 'sea_status'] = 'unsat'\n",
        "  df.loc[df['base'] == 'vcegar_QF_BV_itc99_b13_p10.btor2', 'sea_status'] = 'unsat'\n",
        "  if 'sea_status' in df.columns:\n",
        "    # identify timeouts\n",
        "    df['sea_status'] = df['sea_status'].fillna('unknown')\n",
        "    df['sea_status'] = df['sea_status'].astype(str)\n",
        "    df.loc[df['sea_status'] == 'unknown', 'seahorn_total'] = 1000\n",
        "    return df[['base', 'seahorn_total', 'sea_status']]\n",
        "  return df\n",
        "\n",
        "def clean_vcGen_csv(in_file):\n",
        "  df = pd.read_csv(in_file)\n",
        "  df = df.rename(columns = {'index': 'base', 'seahorn_total':'vcGen_total'})\n",
        "  # identify timeouts\n",
        "  if 'vcGen_total' not in df.columns:\n",
        "    df.loc[df['btor_time'].notna(), 'Result'] = 'unknown'\n",
        "    df.loc[df['Result'] == 'unknown', 'vcGen_total'] = 1000\n",
        "    return df[['base', 'vcGen_total', 'Result']]\n",
        "  # mark completed files\n",
        "  df.loc[df['vcGen_total'].notna(), 'Result'] = 'done'\n",
        "  # identify timeouts\n",
        "  df['Result'] = df['Result'].fillna('unknown')\n",
        "  df['Result'] = df['Result'].astype(str)\n",
        "  df.loc[df['Result'] == 'unknown', 'vcGen_total'] = 1000\n",
        "  return df[['base', 'vcGen_total', 'Result']]"
      ],
      "metadata": {
        "id": "8JrATb0t2oSX"
      },
      "execution_count": null,
      "outputs": []
    },
    {
      "cell_type": "code",
      "source": [
        "def isSound(mergedDF):\n",
        "  df = mergedDF['status'] != mergedDF['sea_status']\n",
        "  # print(df)\n",
        "  return df.sum() == 0\n",
        "\n",
        "def isBtorSound(mergedDF):\n",
        "  df = mergedDF['status_x'] != mergedDF['status_y']\n",
        "  return df.sum() == 0"
      ],
      "metadata": {
        "id": "1dqbZ2-OV6lD"
      },
      "execution_count": null,
      "outputs": []
    },
    {
      "cell_type": "markdown",
      "source": [
        "## Collect CSVs"
      ],
      "metadata": {
        "id": "Put9DSId-Mg_"
      }
    },
    {
      "cell_type": "markdown",
      "source": [
        "### BTORMC with kmax=20\n"
      ],
      "metadata": {
        "id": "abuaRgHG1vnx"
      }
    },
    {
      "cell_type": "code",
      "source": [
        "#include csv for btormc with bound 20\n",
        "BTORMC_20_18D_WOLF = \"https://raw.githubusercontent.com/jetafese/hwmc20-mlir/main/runbench/btormc-20/btormc_bv_18D_wolf_0428231744.csv\"\n",
        "BTORMC_20_19A_WOLF = \"https://raw.githubusercontent.com/jetafese/hwmc20-mlir/main/runbench/btormc-20/btormc_bv_19A_wolf_0428231749.csv\"\n",
        "BTORMC_20_19B_WOLF = \"https://raw.githubusercontent.com/jetafese/hwmc20-mlir/main/runbench/btormc-20/btormc_bv_19B_wolf_0428231754.csv\"\n",
        "BTORMC_20_19C_WOLF = \"https://raw.githubusercontent.com/jetafese/hwmc20-mlir/main/runbench/btormc-20/btormc_bv_19C_wolf_0428231754.csv\"\n",
        "BTORMC_20_19_BEEM = \"https://raw.githubusercontent.com/jetafese/hwmc20-mlir/main/runbench/btormc-20/btormc_bv_19_beem_0428231722.csv\"\n",
        "BTORMC_20_19_GOEL = \"https://raw.githubusercontent.com/jetafese/hwmc20-mlir/main/runbench/btormc-20/btormc_bv_19_goel_0428231727.csv\"\n",
        "BTORMC_20_19_MANN = \"https://raw.githubusercontent.com/jetafese/hwmc20-mlir/main/runbench/btormc-20/btormc_bv_19_mann_0428231737.csv\"\n",
        "BTORMC_20_20_MANN = \"https://raw.githubusercontent.com/jetafese/hwmc20-mlir/main/runbench/btormc-20/btormc_bv_20_0428231804.csv\"\n",
        "\n",
        "BTORMC_A_18A_WOLF = \"https://raw.githubusercontent.com/jetafese/hwmc20-mlir/main/runbench/btormc-20/btormc_array_18A_wolf_0428231808.csv\"\n",
        "BTORMC_A_19A_WOLF = \"https://raw.githubusercontent.com/jetafese/hwmc20-mlir/main/runbench/btormc-20/btormc_array_19A_wolf_0428231808.csv\"\n",
        "BTORMC_A_19B_WOLF = \"https://raw.githubusercontent.com/jetafese/hwmc20-mlir/main/runbench/btormc-20/btormc_array_19B_wolf_0428231813.csv\"\n",
        "BTORMC_A_19C_WOLF = \"https://raw.githubusercontent.com/jetafese/hwmc20-mlir/main/runbench/btormc-20/btormc_array_19C_wolf_0428231813.csv\"\n",
        "BTORMC_A_19_MANN = \"https://raw.githubusercontent.com/jetafese/hwmc20-mlir/main/runbench/btormc-20/btormc_array_19_mann_0428231825.csv\"\n",
        "BTORMC_A_20_MANN = \"https://raw.githubusercontent.com/jetafese/hwmc20-mlir/main/runbench/btormc-20/btormc_array_20_0428231830.csv\""
      ],
      "metadata": {
        "id": "LgjaRJcI12vX"
      },
      "execution_count": null,
      "outputs": []
    },
    {
      "cell_type": "code",
      "source": [
        "# results for btormc with bound 20\n",
        "b20_18D = clean_btormc_csv(BTORMC_20_18D_WOLF)\n",
        "b20_19A = clean_btormc_csv(BTORMC_20_19A_WOLF)\n",
        "b20_19B = clean_btormc_csv(BTORMC_20_19B_WOLF)\n",
        "b20_19C = clean_btormc_csv(BTORMC_20_19C_WOLF)\n",
        "b20_beem = clean_btormc_csv(BTORMC_20_19_BEEM)\n",
        "b20_goel = clean_btormc_csv(BTORMC_20_19_GOEL)\n",
        "b20_19mann = clean_btormc_csv(BTORMC_20_19_MANN)\n",
        "b20_20mann = clean_btormc_csv(BTORMC_20_20_MANN)\n",
        "btormc_results = list([b20_18D, b20_19A, b20_19B, b20_19C, b20_beem, b20_goel, b20_19mann, b20_20mann])\n",
        "\n",
        "bA20_18A = clean_btormc_csv(BTORMC_A_18A_WOLF)\n",
        "bA20_19A = clean_btormc_csv(BTORMC_A_19A_WOLF)\n",
        "bA20_19B = clean_btormc_csv(BTORMC_A_19B_WOLF)\n",
        "bA20_19C = clean_btormc_csv(BTORMC_A_19C_WOLF)\n",
        "bA20_19mann = clean_btormc_csv(BTORMC_A_19_MANN)\n",
        "bA20_20mann = clean_btormc_csv(BTORMC_A_20_MANN)\n",
        "btormc_array_results = list([bA20_18A, bA20_19A, bA20_19B, bA20_19C, bA20_19mann, bA20_20mann])"
      ],
      "metadata": {
        "id": "CmyLXRZJ2eu5"
      },
      "execution_count": null,
      "outputs": []
    },
    {
      "cell_type": "markdown",
      "source": [
        "### BTORMC with kmax=25"
      ],
      "metadata": {
        "id": "FDrgi9IvEQBz"
      }
    },
    {
      "cell_type": "code",
      "source": [
        "#include csv for btormc with bound 25\n",
        "BTORMC_25_18D_WOLF = \"https://raw.githubusercontent.com/jetafese/btor2mlir/main/results/25-btormc/25-btormc_18D_wolf_0202231715.csv\"\n",
        "BTORMC_25_19A_WOLF = \"https://raw.githubusercontent.com/jetafese/btor2mlir/main/results/25-btormc/25-btormc_19A_wolf_0202231735.csv\"\n",
        "BTORMC_25_19B_WOLF = \"https://raw.githubusercontent.com/jetafese/btor2mlir/main/results/25-btormc/25-btormc_19B_wolf_0202231740.csv\"\n",
        "BTORMC_25_19C_WOLF = \"https://raw.githubusercontent.com/jetafese/btor2mlir/main/results/25-btormc/25-btormc_19C_wolf_0202231740.csv\"\n",
        "BTORMC_25_19_BEEM = \"https://raw.githubusercontent.com/jetafese/btor2mlir/main/results/25-btormc/25-btormc_19_beem_0202231720.csv\"\n",
        "BTORMC_25_19_GOEL = \"https://raw.githubusercontent.com/jetafese/btor2mlir/main/results/25-btormc/25-btormc_19_goel_0202231725.csv\"\n",
        "BTORMC_25_19_MANN = \"https://raw.githubusercontent.com/jetafese/hwmc20-mlir/main/runbench/b25/btormc_bv_19_mann_0515230936.csv\"\n",
        "BTORMC_25_20_MANN = \"https://raw.githubusercontent.com/jetafese/hwmc20-mlir/main/runbench/b25/btormc_bv_20_0515230946.csv\"\n"
      ],
      "metadata": {
        "id": "eiEC6Od4lgLe"
      },
      "execution_count": null,
      "outputs": []
    },
    {
      "cell_type": "code",
      "source": [
        "# results for btormc with bound 25\n",
        "b25_18D = clean_btormc_csv(BTORMC_25_18D_WOLF)\n",
        "b25_19A = clean_btormc_csv(BTORMC_25_19A_WOLF)\n",
        "b25_19B = clean_btormc_csv(BTORMC_25_19B_WOLF)\n",
        "b25_19C = clean_btormc_csv(BTORMC_25_19C_WOLF)\n",
        "b25_beem = clean_btormc_csv(BTORMC_25_19_BEEM)\n",
        "b25_goel = clean_btormc_csv(BTORMC_25_19_GOEL)\n",
        "b25_19mann = clean_btormc_csv(BTORMC_25_19_MANN)\n",
        "b25_20mann = clean_btormc_csv(BTORMC_25_20_MANN)\n",
        "b25_results = list([b25_18D, b25_19A, b25_19B, b25_19C, b25_beem, b25_goel, b25_19mann, b25_20mann])"
      ],
      "metadata": {
        "id": "C8ShaG5ynsu3"
      },
      "execution_count": null,
      "outputs": []
    },
    {
      "cell_type": "markdown",
      "source": [
        "### BTORMC with kmax=20 for round-tripped files\n"
      ],
      "metadata": {
        "id": "x0qCvE-s7ALY"
      }
    },
    {
      "cell_type": "code",
      "source": [
        "#include csv for btormc with bound 20 for round-tripped files\n",
        "EXPORT_18D_WOLF = \"https://raw.githubusercontent.com/jetafese/hwmc20-mlir/main/runbench/export/btormc-export_bv_18D_wolf_0428231107.csv\"\n",
        "EXPORT_19A_WOLF = \"https://raw.githubusercontent.com/jetafese/hwmc20-mlir/main/runbench/export/btormc-export_bv_19A_wolf_0428231112.csv\"\n",
        "EXPORT_19B_WOLF = \"https://raw.githubusercontent.com/jetafese/hwmc20-mlir/main/runbench/export/btormc-export_bv_19B_wolf_0428231117.csv\"\n",
        "EXPORT_19C_WOLF = \"https://raw.githubusercontent.com/jetafese/hwmc20-mlir/main/runbench/export/btormc-export_bv_19C_wolf_0428231117.csv\"\n",
        "EXPORT_19_BEEM = \"https://raw.githubusercontent.com/jetafese/hwmc20-mlir/main/runbench/export/btormc-export_bv_19_beem_0427231633.csv\"\n",
        "EXPORT_19_GOEL = \"https://raw.githubusercontent.com/jetafese/hwmc20-mlir/main/runbench/export/btormc-export_bv_19_goel_0428231050.csv\"\n",
        "EXPORT_19_MANN = \"https://raw.githubusercontent.com/jetafese/hwmc20-mlir/main/runbench/export/btormc-export_bv_19_mann_0428231100.csv\"\n",
        "EXPORT_20_MANN = \"https://raw.githubusercontent.com/jetafese/hwmc20-mlir/main/runbench/export/btormc-export_bv_20_0428231127.csv\"\n",
        "\n",
        "EXPORT_A_18A_WOLF = \"https://raw.githubusercontent.com/jetafese/hwmc20-mlir/main/runbench/export/btormc-export_array_18A_wolf_0428231131.csv\"\n",
        "EXPORT_A_19A_WOLF = \"https://raw.githubusercontent.com/jetafese/hwmc20-mlir/main/runbench/export/btormc-export_array_19A_wolf_0428231131.csv\"\n",
        "EXPORT_A_19B_WOLF = \"https://raw.githubusercontent.com/jetafese/hwmc20-mlir/main/runbench/export/btormc-export_array_19B_wolf_0428231136.csv\"\n",
        "EXPORT_A_19C_WOLF = \"https://raw.githubusercontent.com/jetafese/hwmc20-mlir/main/runbench/export/btormc-export_array_19C_wolf_0428231136.csv\"\n",
        "EXPORT_A_19_MANN = \"https://raw.githubusercontent.com/jetafese/hwmc20-mlir/main/runbench/export/btormc-export_array_19_mann_0428231136.csv\"\n",
        "EXPORT_A_20_MANN = \"https://raw.githubusercontent.com/jetafese/hwmc20-mlir/main/runbench/export/btormc-export_array_20_0428231141.csv\""
      ],
      "metadata": {
        "id": "FMhUO89x7Gmb"
      },
      "execution_count": null,
      "outputs": []
    },
    {
      "cell_type": "code",
      "source": [
        "# results for btormc with bound 20 for round-tripped files\n",
        "export_18D = clean_btormc_csv(EXPORT_18D_WOLF)\n",
        "export_19A = clean_btormc_csv(EXPORT_19A_WOLF)\n",
        "export_19B = clean_btormc_csv(EXPORT_19B_WOLF)\n",
        "export_19C = clean_btormc_csv(EXPORT_19C_WOLF)\n",
        "export_beem = clean_btormc_csv(EXPORT_19_BEEM)\n",
        "export_goel = clean_btormc_csv(EXPORT_19_GOEL)\n",
        "export_19mann = clean_btormc_csv(EXPORT_19_MANN)\n",
        "export_20mann = clean_btormc_csv(EXPORT_20_MANN)\n",
        "export_results = list([export_18D, export_19A, export_19B, export_19C, export_beem, export_goel, export_19mann, export_20mann])\n",
        "\n",
        "exportA_18A = clean_btormc_csv(EXPORT_A_18A_WOLF)\n",
        "exportA_19A = clean_btormc_csv(EXPORT_A_19A_WOLF)\n",
        "exportA_19B = clean_btormc_csv(EXPORT_A_19B_WOLF)\n",
        "exportA_19C = clean_btormc_csv(EXPORT_A_19C_WOLF)\n",
        "exportA_19mann = clean_btormc_csv(EXPORT_A_19_MANN)\n",
        "exportA_20mann = clean_btormc_csv(EXPORT_A_20_MANN)\n",
        "export_array_results = list([exportA_18A, exportA_19A, exportA_19B, exportA_19C, exportA_19mann, exportA_20mann])"
      ],
      "metadata": {
        "id": "ZH_DFIh28I4R"
      },
      "execution_count": null,
      "outputs": []
    },
    {
      "cell_type": "markdown",
      "source": [
        "### Seahorn with bound=20"
      ],
      "metadata": {
        "id": "vE9MQ8AJEYnE"
      }
    },
    {
      "cell_type": "code",
      "source": [
        "#include csv for seahorn with bound 20\n",
        "SEAHORN_18D_WOLF = \"https://raw.githubusercontent.com/jetafese/hwmc20-mlir/main/runbench/seahorn/seahorn_18D_wolf_0428231624.csv\"\n",
        "SEAHORN_19A_WOLF = \"https://raw.githubusercontent.com/jetafese/hwmc20-mlir/main/runbench/seahorn/seahorn_19A_wolf_0428231654.csv\"\n",
        "SEAHORN_19B_WOLF = \"https://raw.githubusercontent.com/jetafese/hwmc20-mlir/main/runbench/seahorn/seahorn_19B_wolf_0428231659.csv\"\n",
        "SEAHORN_19C_WOLF = \"https://raw.githubusercontent.com/jetafese/hwmc20-mlir/main/runbench/seahorn/seahorn_19C_wolf_0428231659.csv\"\n",
        "SEAHORN_19_BEEM = \"https://raw.githubusercontent.com/jetafese/hwmc20-mlir/main/runbench/seahorn/seahorn_19_beem_0428231629.csv\"\n",
        "SEAHORN_19_GOEL = \"https://raw.githubusercontent.com/jetafese/hwmc20-mlir/main/runbench/seahorn/seahorn_19_goel_0428231634.csv\"\n",
        "SEAHORN_19_MANN = \"https://raw.githubusercontent.com/jetafese/hwmc20-mlir/main/runbench/seahorn/seahorn_19_mann_0428231644.csv\"\n",
        "SEAHORN_20_MANN = \"https://raw.githubusercontent.com/jetafese/hwmc20-mlir/main/runbench/seahorn/seahorn_20_0428231709.csv\""
      ],
      "metadata": {
        "id": "w1J0bHVxEeKf"
      },
      "execution_count": null,
      "outputs": []
    },
    {
      "cell_type": "code",
      "source": [
        "#results for seahorn with bound 20\n",
        "sea_18D = clean_seahorn_csv(SEAHORN_18D_WOLF)\n",
        "sea_19A = clean_seahorn_csv(SEAHORN_19A_WOLF)\n",
        "sea_19B = clean_seahorn_csv(SEAHORN_19B_WOLF)\n",
        "sea_19C = clean_seahorn_csv(SEAHORN_19C_WOLF)\n",
        "sea_beem = clean_seahorn_csv(SEAHORN_19_BEEM)\n",
        "sea_goel = clean_seahorn_csv(SEAHORN_19_GOEL)\n",
        "sea_19mann = clean_seahorn_csv(SEAHORN_19_MANN)\n",
        "sea_20mann = clean_seahorn_csv(SEAHORN_20_MANN)\n",
        "sea_results = list([sea_18D, sea_19A, sea_19B, sea_19C, sea_beem, sea_goel, sea_19mann, sea_20mann])"
      ],
      "metadata": {
        "id": "hbe1bxUTFrKF"
      },
      "execution_count": null,
      "outputs": []
    },
    {
      "cell_type": "markdown",
      "source": [
        "### vcGen with bound=20"
      ],
      "metadata": {
        "id": "-s2SeRhiKWvG"
      }
    },
    {
      "cell_type": "code",
      "source": [
        "#include csv for vsGen with bound 20\n",
        "VCGEN_18D_WOLF = \"https://raw.githubusercontent.com/jetafese/hwmc20-mlir/main/runbench/vcgen/seahorn_18D_wolf_0428231157.csv\"\n",
        "VCGEN_19A_WOLF = \"https://raw.githubusercontent.com/jetafese/hwmc20-mlir/main/runbench/vcgen/seahorn_19A_wolf_0428231223.csv\"\n",
        "VCGEN_19B_WOLF = \"https://raw.githubusercontent.com/jetafese/hwmc20-mlir/main/runbench/vcgen/seahorn_19B_wolf_0428231228.csv\"\n",
        "VCGEN_19C_WOLF = \"https://raw.githubusercontent.com/jetafese/hwmc20-mlir/main/runbench/vcgen/seahorn_19C_wolf_0428231228.csv\"\n",
        "VCGEN_19_BEEM = \"https://raw.githubusercontent.com/jetafese/hwmc20-mlir/main/runbench/vcgen/seahorn_19_beem_0428231202.csv\"\n",
        "VCGEN_19_GOEL = \"https://raw.githubusercontent.com/jetafese/hwmc20-mlir/main/runbench/vcgen/seahorn_19_goel_0428231207.csv\"\n",
        "VCGEN_19_MANN = \"https://raw.githubusercontent.com/jetafese/hwmc20-mlir/main/runbench/vcgen/seahorn_19_mann_0428231217.csv\"\n",
        "VCGEN_20_MANN = \"https://raw.githubusercontent.com/jetafese/hwmc20-mlir/main/runbench/vcgen/seahorn_20_0428231234.csv\""
      ],
      "metadata": {
        "id": "G3m_uMvdKViV"
      },
      "execution_count": null,
      "outputs": []
    },
    {
      "cell_type": "code",
      "source": [
        "#results for vcGen with bound 20\n",
        "vc_18D = clean_vcGen_csv(VCGEN_18D_WOLF)\n",
        "vc_19A = clean_vcGen_csv(VCGEN_19A_WOLF)\n",
        "vc_19B = clean_vcGen_csv(VCGEN_19B_WOLF)\n",
        "vc_19C = clean_vcGen_csv(VCGEN_19C_WOLF)\n",
        "vc_beem = clean_vcGen_csv(VCGEN_19_BEEM)\n",
        "vc_goel = clean_vcGen_csv(VCGEN_19_GOEL)\n",
        "vc_19mann = clean_vcGen_csv(VCGEN_19_MANN)\n",
        "vc_20mann = clean_vcGen_csv(VCGEN_20_MANN)\n",
        "vc_results = list([vc_18D, vc_19A, vc_19B, vc_19C, vc_beem, vc_goel, vc_19mann, vc_20mann])"
      ],
      "metadata": {
        "id": "YwtuZ0ZnLQaS"
      },
      "execution_count": null,
      "outputs": []
    },
    {
      "cell_type": "markdown",
      "source": [
        "### Boolector SMT Solver"
      ],
      "metadata": {
        "id": "moif8MN4mioU"
      }
    },
    {
      "cell_type": "code",
      "source": [
        "#include csv for boolector\n",
        "BTOR_18D_WOLF = \"https://raw.githubusercontent.com/jetafese/hwmc20-mlir/main/runbench/boolector/boolector_18D_wolf_0428231524.csv\"\n",
        "BTOR_19A_WOLF = \"https://raw.githubusercontent.com/jetafese/hwmc20-mlir/main/runbench/boolector/boolector_19A_wolf_0428231545.csv\"\n",
        "BTOR_19B_WOLF = \"https://raw.githubusercontent.com/jetafese/hwmc20-mlir/main/runbench/boolector/boolector_19B_wolf_0428231545.csv\"\n",
        "BTOR_19C_WOLF = \"https://raw.githubusercontent.com/jetafese/hwmc20-mlir/main/runbench/boolector/boolector_19C_wolf_0428231545.csv\"\n",
        "BTOR_19_BEEM = \"https://raw.githubusercontent.com/jetafese/hwmc20-mlir/main/runbench/boolector/boolector_19_beem_0428231528.csv\"\n",
        "BTOR_19_GOEL = \"https://raw.githubusercontent.com/jetafese/hwmc20-mlir/main/runbench/boolector/boolector_19_goel_0428231533.csv\"\n",
        "BTOR_19_MANN = \"https://raw.githubusercontent.com/jetafese/hwmc20-mlir/main/runbench/boolector/boolector_19_mann_0428231539.csv\"\n",
        "BTOR_20_MANN = \"https://raw.githubusercontent.com/jetafese/hwmc20-mlir/main/runbench/boolector/boolector_20_0428231555.csv\""
      ],
      "metadata": {
        "id": "FwfOlWqfmqoA"
      },
      "execution_count": null,
      "outputs": []
    },
    {
      "cell_type": "code",
      "source": [
        "# results for boolector\n",
        "btor_18D = clean_btormc_csv(BTOR_18D_WOLF, btor=True)\n",
        "btor_19A = clean_btormc_csv(BTOR_19A_WOLF, btor=True)\n",
        "btor_19B = clean_btormc_csv(BTOR_19B_WOLF, btor=True)\n",
        "btor_19C = clean_btormc_csv(BTOR_19C_WOLF, btor=True)\n",
        "btor_beem = clean_btormc_csv(BTOR_19_BEEM, btor=True)\n",
        "btor_goel = clean_btormc_csv(BTOR_19_GOEL, btor=True)\n",
        "btor_19mann = clean_btormc_csv(BTOR_19_MANN, btor=True)\n",
        "btor_20mann = clean_btormc_csv(BTOR_20_MANN, btor=True)\n",
        "btor_results = list([btor_18D, btor_19A, btor_19B, btor_19C, btor_beem, btor_goel, btor_19mann, btor_20mann])"
      ],
      "metadata": {
        "id": "8RqV9o91n8Ms"
      },
      "execution_count": null,
      "outputs": []
    },
    {
      "cell_type": "markdown",
      "source": [
        "### Translation"
      ],
      "metadata": {
        "id": "zFv0D5RyFF1-"
      }
    },
    {
      "cell_type": "code",
      "source": [
        "#include csv for translation times for export\n",
        "B2IR_18D_WOLF = \"https://raw.githubusercontent.com/jetafese/hwmc20-mlir/main/runbench/translation/btor2mlir_bv_18D_wolf_0427231612.csv\"\n",
        "B2IR_19A_WOLF = \"https://raw.githubusercontent.com/jetafese/hwmc20-mlir/main/runbench/translation/btor2mlir_bv_19A_wolf_0427231612.csv\"\n",
        "B2IR_19B_WOLF = \"https://raw.githubusercontent.com/jetafese/hwmc20-mlir/main/runbench/translation/btor2mlir_bv_19B_wolf_0427231612.csv\"\n",
        "B2IR_19C_WOLF = \"https://raw.githubusercontent.com/jetafese/hwmc20-mlir/main/runbench/translation/btor2mlir_bv_19C_wolf_0427231612.csv\"\n",
        "B2IR_19_BEEM = \"https://raw.githubusercontent.com/jetafese/hwmc20-mlir/main/runbench/translation/btor2mlir_bv_19_beem_0427231612.csv\"\n",
        "B2IR_19_GOEL = \"https://raw.githubusercontent.com/jetafese/hwmc20-mlir/main/runbench/translation/btor2mlir_bv_19_goel_0427231612.csv\"\n",
        "B2IR_19_MANN = \"https://raw.githubusercontent.com/jetafese/hwmc20-mlir/main/runbench/translation/btor2mlir_bv_19_mann_0427231612.csv\"\n",
        "B2IR_20_MANN = \"https://raw.githubusercontent.com/jetafese/hwmc20-mlir/main/runbench/translation/btor2mlir_bv_20_0427231612.csv\"\n",
        "\n",
        "B2IR_A_18A_WOLF = \"https://raw.githubusercontent.com/jetafese/hwmc20-mlir/main/runbench/translation/btor2mlir_array_18A_wolf_0427231612.csv\"\n",
        "B2IR_A_19A_WOLF = \"https://raw.githubusercontent.com/jetafese/hwmc20-mlir/main/runbench/translation/btor2mlir_array_19A_wolf_0427231612.csv\"\n",
        "B2IR_A_19B_WOLF = \"https://raw.githubusercontent.com/jetafese/hwmc20-mlir/main/runbench/translation/btor2mlir_array_19B_wolf_0427231612.csv\"\n",
        "B2IR_A_19C_WOLF = \"https://raw.githubusercontent.com/jetafese/hwmc20-mlir/main/runbench/translation/btor2mlir_array_19C_wolf_0427231612.csv\"\n",
        "B2IR_A_19_MANN = \"https://raw.githubusercontent.com/jetafese/hwmc20-mlir/main/runbench/translation/btor2mlir_array_19_mann_0427231612.csv\"\n",
        "B2IR_A_20_MANN = \"https://raw.githubusercontent.com/jetafese/hwmc20-mlir/main/runbench/translation/btor2mlir_array_20_0427231612.csv\""
      ],
      "metadata": {
        "id": "s5mryFj2FTHc"
      },
      "execution_count": null,
      "outputs": []
    },
    {
      "cell_type": "code",
      "source": [
        "# results for translation\n",
        "b2ir_18D = clean_b2ir_csv(B2IR_18D_WOLF)\n",
        "b2ir_19A = clean_b2ir_csv(B2IR_19A_WOLF)\n",
        "b2ir_19B = clean_b2ir_csv(B2IR_19B_WOLF)\n",
        "b2ir_19C = clean_b2ir_csv(B2IR_19C_WOLF)\n",
        "b2ir_beem = clean_b2ir_csv(B2IR_19_BEEM)\n",
        "b2ir_goel = clean_b2ir_csv(B2IR_19_GOEL)\n",
        "b2ir_19mann = clean_b2ir_csv(B2IR_19_MANN)\n",
        "b2ir_20mann = clean_b2ir_csv(B2IR_20_MANN)\n",
        "b2ir_results = list([b2ir_18D, b2ir_19A, b2ir_19B, b2ir_19C, b2ir_beem, b2ir_goel, b2ir_19mann, b2ir_20mann])\n",
        "\n",
        "b2irA_18A = clean_b2ir_csv(B2IR_A_18A_WOLF)\n",
        "b2irA_19A = clean_b2ir_csv(B2IR_A_19A_WOLF)\n",
        "b2irA_19B = clean_b2ir_csv(B2IR_A_19B_WOLF)\n",
        "b2irA_19C = clean_b2ir_csv(B2IR_A_19C_WOLF)\n",
        "b2irA_19mann = clean_b2ir_csv(B2IR_A_19_MANN)\n",
        "b2irA_20mann = clean_b2ir_csv(B2IR_A_20_MANN)\n",
        "b2ir_array_results = list([b2irA_18A, b2irA_19A, b2irA_19B, b2irA_19C, b2irA_19mann, b2irA_20mann])"
      ],
      "metadata": {
        "id": "4AylN9aRIbyM"
      },
      "execution_count": null,
      "outputs": []
    },
    {
      "cell_type": "code",
      "source": [
        "for b2ir_times in b2ir_results + b2ir_array_results:\n",
        "  print (b2ir_times.query('btor_time > 0.3'))"
      ],
      "metadata": {
        "colab": {
          "base_uri": "https://localhost:8080/"
        },
        "id": "f8tT07AI0SAA",
        "outputId": "d35b9352-b04b-4f4e-f0a7-504c32cb451c"
      },
      "execution_count": null,
      "outputs": [
        {
          "output_type": "stream",
          "name": "stdout",
          "text": [
            "Empty DataFrame\n",
            "Columns: [base, btor_time]\n",
            "Index: []\n",
            "Empty DataFrame\n",
            "Columns: [base, btor_time]\n",
            "Index: []\n",
            "Empty DataFrame\n",
            "Columns: [base, btor_time]\n",
            "Index: []\n",
            "Empty DataFrame\n",
            "Columns: [base, btor_time]\n",
            "Index: []\n",
            "Empty DataFrame\n",
            "Columns: [base, btor_time]\n",
            "Index: []\n",
            "Empty DataFrame\n",
            "Columns: [base, btor_time]\n",
            "Index: []\n",
            "Empty DataFrame\n",
            "Columns: [base, btor_time]\n",
            "Index: []\n",
            "Empty DataFrame\n",
            "Columns: [base, btor_time]\n",
            "Index: []\n",
            "Empty DataFrame\n",
            "Columns: [base, btor_time]\n",
            "Index: []\n",
            "Empty DataFrame\n",
            "Columns: [base, btor_time]\n",
            "Index: []\n",
            "Empty DataFrame\n",
            "Columns: [base, btor_time]\n",
            "Index: []\n",
            "Empty DataFrame\n",
            "Columns: [base, btor_time]\n",
            "Index: []\n",
            "Empty DataFrame\n",
            "Columns: [base, btor_time]\n",
            "Index: []\n",
            "Empty DataFrame\n",
            "Columns: [base, btor_time]\n",
            "Index: []\n"
          ]
        }
      ]
    },
    {
      "cell_type": "markdown",
      "source": [
        "## Compare results"
      ],
      "metadata": {
        "id": "bZrn_CONTjYP"
      }
    },
    {
      "cell_type": "code",
      "source": [
        "concat_dfs = list()\n",
        "for (btorMC, b25Res, seahorn, vcGen, boolector) in zip(btormc_results, b25_results, sea_results, vc_results, btor_results):\n",
        "  b25Res = b25Res.rename(columns = {'btormc_time': 'b25_time', 'status': 'b25_status'})\n",
        "  df = pd.merge(btorMC, b25Res[['base', 'b25_time', 'b25_status']], how='inner', on='base')\n",
        "  df = pd.merge(df, seahorn[['base','seahorn_total', 'sea_status']], how='inner', on='base')\n",
        "  df = pd.merge(df, vcGen[['base', 'vcGen_total', 'Result']], how='inner', on='base')\n",
        "  df = pd.merge(df, boolector[['base', 'btor_time', 'btor_status']], how='inner', on='base')\n",
        "  concat_dfs.append(df)\n",
        "  # print (btorMC)"
      ],
      "metadata": {
        "id": "rDmfVoOKM95A"
      },
      "execution_count": null,
      "outputs": []
    },
    {
      "cell_type": "code",
      "source": [
        "def getTime(numSat, numUnsat, df, status, time):\n",
        "  if numSat != 0 and numUnsat != 0:\n",
        "    finalSatDF = df[df[status] == 'sat']\n",
        "    finalUnsatDF = df[df[status] == 'unsat']\n",
        "    finalDF = pd.concat([finalSatDF, finalUnsatDF])\n",
        "  elif numUnsat == 0:\n",
        "    finalDF = df[df[status] == 'sat']\n",
        "  else:\n",
        "    finalDF = df[df[status] == 'unsat']\n",
        "  return finalDF[[time]].sum()[0]"
      ],
      "metadata": {
        "id": "ZCMsvBjSYdPY"
      },
      "execution_count": null,
      "outputs": []
    },
    {
      "cell_type": "code",
      "source": [
        "def printTotalStats(df, final, bench):\n",
        "  # BMC\n",
        "  numBMCSat = len(df[df['status'] == 'sat'])\n",
        "  numBMCUnsat = len(df[df['status'] == 'unsat'])\n",
        "  numBMCTimeout = len(df[df['status'] == 'unknown'])\n",
        "  bmcTime = getTime(numBMCSat, numBMCUnsat, df, 'status', 'btormc_time')\n",
        "\n",
        "  #B25\n",
        "  numB25Sat = len(df[df['b25_status'] == 'sat'])\n",
        "  numB25Unsat = len(df[df['b25_status'] == 'unsat'])\n",
        "  numB25Timeout = len(df[df['b25_status'] == 'unknown'])\n",
        "  b25Time = getTime(numB25Sat, numB25Unsat, df, 'b25_status', 'b25_time')\n",
        "\n",
        "  # Seahorn\n",
        "  numSeaSat = len(df[df['sea_status'] == 'sat'])\n",
        "  numSeaUnsat = len(df[df['sea_status'] == 'unsat'])\n",
        "  numSeaTimeout = len(df[df['sea_status'] == 'unknown'])\n",
        "  assert ((numSeaSat + numSeaUnsat + numSeaTimeout) == len(df))\n",
        "  seahornTime = getTime(numSeaSat, numSeaUnsat, df, 'sea_status', 'seahorn_total')\n",
        "\n",
        "  # VCGen\n",
        "  numVCTimeout = len(df[df['Result'] == 'unknown'])\n",
        "  filteredDF = df[df['Result'] == 'done']\n",
        "  vcTime = filteredDF[['vcGen_total']].sum()[0]\n",
        "\n",
        "  # Boolector\n",
        "  numBtorSat = len(df[df['btor_status'] == 'sat'])\n",
        "  numBtorUnsat = len(df[df['btor_status'] == 'unsat'])\n",
        "  numBtorTimeout = len(df[df['btor_status'] == 'unknown'])\n",
        "  btor_time = getTime(numBtorSat, numBtorUnsat, df, 'btor_status', 'btor_time')\n",
        "  assert ((numBtorSat + numBtorUnsat + numBtorTimeout) == len(df))\n",
        "\n",
        "  entry = pd.DataFrame.from_dict({\n",
        "    \"base\": [bench],\n",
        "\n",
        "    \"bmc_sat\":  [numBMCSat],\n",
        "    \"bmc_unsat\":  [numBMCUnsat],\n",
        "    \"bmc_to\":  [numBMCTimeout],\n",
        "    \"bmc_time\":  [bmcTime],\n",
        "\n",
        "    \"b25_sat\":  [numB25Sat],\n",
        "    \"b25_unsat\":  [numB25Unsat],\n",
        "    \"b25_to\":  [numB25Timeout],\n",
        "    \"b25_time\":  [b25Time],\n",
        "\n",
        "    \"sea_sat\":  [numSeaSat],\n",
        "    \"sea_unsat\":  [numSeaUnsat],\n",
        "    \"sea_to\":  [numSeaTimeout],\n",
        "    \"seahorn_time\":  [seahornTime],\n",
        "\n",
        "    \"vc_to\":  [numVCTimeout],\n",
        "    \"vcGen_time\": [vcTime],\n",
        "\n",
        "    \"btor_sat\":  [numBtorSat],\n",
        "    \"btor_unsat\":  [numBtorUnsat],\n",
        "    \"btor_to\":  [numBtorTimeout],\n",
        "    \"btor_time\":  [btor_time]\n",
        "  })\n",
        "\n",
        "  return pd.concat([final, entry], ignore_index=True)"
      ],
      "metadata": {
        "id": "RIW5_ntsq1AR"
      },
      "execution_count": null,
      "outputs": []
    },
    {
      "cell_type": "markdown",
      "source": [
        "## Final Table\n"
      ],
      "metadata": {
        "id": "dHv9hWfBsfyO"
      }
    },
    {
      "cell_type": "code",
      "source": [
        "reportDF = pd.DataFrame(columns=['base', 'bmc_unsat', 'bmc_sat', 'bmc_to', 'bmc_time',\n",
        "                                'b25_unsat', 'b25_sat', 'b25_to', 'b25_time',\n",
        "                                'sea_unsat', 'sea_sat', 'sea_to', 'seahorn_time',\n",
        "                                'vc_to','vcGen_time',\n",
        "                                'btor_unsat', 'btor_sat', 'btor_to', 'btor_time'])\n",
        "# reportDF = pd.DataFrame()\n",
        "for (bDF, category) in zip(concat_dfs, benchmark_categories):\n",
        "  reportDF = printTotalStats (bDF, reportDF, category)\n",
        "print (reportDF)\n",
        "reportDF[['b25_unsat', 'b25_sat', 'b25_to', 'b25_time']].to_latex()\n",
        "# reportDF[['seahorn_time', 'sea_unsat', 'sea_sat', 'sea_to']].to_latex()\n",
        "# reportDF[['vcGen_time', 'vc_to']].to_latex()\n",
        "# reportDF[['btor_time', 'btor_unsat', 'btor_sat', 'btor_to']].to_latex()"
      ],
      "metadata": {
        "colab": {
          "base_uri": "https://localhost:8080/"
        },
        "id": "71MaA4C5qRRe",
        "outputId": "64e3b3a8-4517-4043-c692-47b8c64eb218"
      },
      "execution_count": null,
      "outputs": [
        {
          "output_type": "stream",
          "name": "stdout",
          "text": [
            "       base bmc_unsat bmc_sat bmc_to  bmc_time b25_unsat b25_sat b25_to  \\\n",
            "0  wolf/18D        34       0      2   157.435        34       0      2   \n",
            "1  wolf/19A         0       1     17   146.381         0       1     17   \n",
            "2  wolf/19B         3       0      0     1.447         3       0      0   \n",
            "3  wolf/19C       108       0      5   834.101       107       0      6   \n",
            "4      beem         9       2      4   278.951         8       2      5   \n",
            "5      goel        26       2     43   190.757        25       2     44   \n",
            "6   19/mann        29      15      9  4442.889        28      15     10   \n",
            "7   20/mann        10       5      0   257.304        10       5      0   \n",
            "\n",
            "   b25_time sea_unsat sea_sat sea_to  seahorn_time vc_to  vcGen_time  \\\n",
            "0   393.864        29       0      7        560.36     2      543.56   \n",
            "1   106.463         0       0     18          0.00    18        0.00   \n",
            "2     2.300         3       0      0          2.32     0        1.92   \n",
            "3  1101.107       102       0     11        354.52     2      418.69   \n",
            "4   251.361         6       2      7        309.43     4       34.77   \n",
            "5   348.912        25       1     45        489.21    27      131.84   \n",
            "6  8674.241        19      14     20       3811.47     2      174.84   \n",
            "7   494.933         8       5      2         93.76     0       34.81   \n",
            "\n",
            "  btor_unsat btor_sat btor_to  btor_time  \n",
            "0         34        0       2    745.590  \n",
            "1          0        0      18      0.000  \n",
            "2          3        0       0      2.898  \n",
            "3        106        0       7   1084.904  \n",
            "4          7        2       6     84.822  \n",
            "5         28        2      41    334.510  \n",
            "6         30       14       9   3015.998  \n",
            "7          9        5       1    187.925  \n"
          ]
        },
        {
          "output_type": "stream",
          "name": "stderr",
          "text": [
            "<ipython-input-74-1f13c15dcd7b>:10: FutureWarning: In future versions `DataFrame.to_latex` is expected to utilise the base implementation of `Styler.to_latex` for formatting and rendering. The arguments signature may therefore change. It is recommended instead to use `DataFrame.style.to_latex` which also contains additional functionality.\n",
            "  reportDF[['b25_unsat', 'b25_sat', 'b25_to', 'b25_time']].to_latex()\n"
          ]
        },
        {
          "output_type": "execute_result",
          "data": {
            "text/plain": [
              "'\\\\begin{tabular}{llllr}\\n\\\\toprule\\n{} & b25\\\\_unsat & b25\\\\_sat & b25\\\\_to &  b25\\\\_time \\\\\\\\\\n\\\\midrule\\n0 &        34 &       0 &      2 &   393.864 \\\\\\\\\\n1 &         0 &       1 &     17 &   106.463 \\\\\\\\\\n2 &         3 &       0 &      0 &     2.300 \\\\\\\\\\n3 &       107 &       0 &      6 &  1101.107 \\\\\\\\\\n4 &         8 &       2 &      5 &   251.361 \\\\\\\\\\n5 &        25 &       2 &     44 &   348.912 \\\\\\\\\\n6 &        28 &      15 &     10 &  8674.241 \\\\\\\\\\n7 &        10 &       5 &      0 &   494.933 \\\\\\\\\\n\\\\bottomrule\\n\\\\end{tabular}\\n'"
            ],
            "application/vnd.google.colaboratory.intrinsic+json": {
              "type": "string"
            }
          },
          "metadata": {},
          "execution_count": 74
        }
      ]
    },
    {
      "cell_type": "code",
      "source": [
        "reportDF.sum().to_latex()\n",
        "reportDF.sum()"
      ],
      "metadata": {
        "colab": {
          "base_uri": "https://localhost:8080/"
        },
        "id": "elJ-6TW3wSNu",
        "outputId": "68910a90-d194-4ecf-fcd7-7be6f7046e3b"
      },
      "execution_count": null,
      "outputs": [
        {
          "output_type": "stream",
          "name": "stderr",
          "text": [
            "<ipython-input-75-f97eb008ad1a>:1: FutureWarning: In future versions `DataFrame.to_latex` is expected to utilise the base implementation of `Styler.to_latex` for formatting and rendering. The arguments signature may therefore change. It is recommended instead to use `DataFrame.style.to_latex` which also contains additional functionality.\n",
            "  reportDF.sum().to_latex()\n"
          ]
        },
        {
          "output_type": "execute_result",
          "data": {
            "text/plain": [
              "base            wolf/18Dwolf/19Awolf/19Bwolf/19Cbeemgoel19/man...\n",
              "bmc_unsat                                                     219\n",
              "bmc_sat                                                        25\n",
              "bmc_to                                                         80\n",
              "bmc_time                                                 6309.265\n",
              "b25_unsat                                                     215\n",
              "b25_sat                                                        25\n",
              "b25_to                                                         84\n",
              "b25_time                                                11373.181\n",
              "sea_unsat                                                     192\n",
              "sea_sat                                                        22\n",
              "sea_to                                                        110\n",
              "seahorn_time                                              5621.07\n",
              "vc_to                                                          55\n",
              "vcGen_time                                                1340.43\n",
              "btor_unsat                                                    217\n",
              "btor_sat                                                       23\n",
              "btor_to                                                        84\n",
              "btor_time                                                5456.647\n",
              "dtype: object"
            ]
          },
          "metadata": {},
          "execution_count": 75
        }
      ]
    },
    {
      "cell_type": "markdown",
      "source": [
        "## Roundtrip checks"
      ],
      "metadata": {
        "id": "m5hjGSVRvstL"
      }
    },
    {
      "cell_type": "markdown",
      "source": [
        "### Utils"
      ],
      "metadata": {
        "id": "W7hE--jzb0MI"
      }
    },
    {
      "cell_type": "code",
      "source": [
        "def printExportStats(df, final, bench):\n",
        "  # BMC\n",
        "  numBMCSat = len(df[df['status'] == 'sat'])\n",
        "  numBMCUnsat = len(df[df['status'] == 'unsat'])\n",
        "  numBMCTimeout = len(df[df['status'] == 'timeout'])\n",
        "  numBMCMemout = len(df[df['status'] == 'memout'])\n",
        "  bmcTime = getTime(numBMCSat, numBMCUnsat, df, 'status', 'btormc_time')\n",
        "\n",
        "  if 'export_status' not in df.columns:\n",
        "    assert bench == 'wolf/19C'\n",
        "    #export\n",
        "    numExpSat = 0\n",
        "    numExpUnsat = 0\n",
        "    numExpTimeout = 265\n",
        "    numExpMemout = 0\n",
        "    bExpTime = 0\n",
        "  else:\n",
        "    #export\n",
        "    numExpSat = len(df[df['export_status'] == 'sat'])\n",
        "    numExpUnsat = len(df[df['export_status'] == 'unsat'])\n",
        "    numExpTimeout = len(df[df['export_status'] == 'timeout'])\n",
        "    numExpMemout = len(df[df['export_status'] == 'memout'])\n",
        "    bExpTime = getTime(numExpSat, numExpUnsat, df, 'export_status', 'export_time')\n",
        "\n",
        "  entry = pd.DataFrame.from_dict({\n",
        "    \"base\": [bench],\n",
        "\n",
        "    \"bmc_sat\":  [numBMCSat],\n",
        "    \"bmc_unsat\":  [numBMCUnsat],\n",
        "    \"bmc_to\":  [numBMCTimeout + numBMCMemout],\n",
        "    \"bmc_time\":  [bmcTime],\n",
        "\n",
        "    \"export_sat\":  [numExpSat],\n",
        "    \"export_unsat\":  [numExpUnsat],\n",
        "    \"export_to\":  [numExpTimeout + numExpMemout],\n",
        "    \"export_time\":  [bExpTime],\n",
        "\n",
        "  })\n",
        "\n",
        "  return pd.concat([final, entry], ignore_index=True)"
      ],
      "metadata": {
        "id": "NTDcWjXYbzOD"
      },
      "execution_count": null,
      "outputs": []
    },
    {
      "cell_type": "markdown",
      "source": [
        "### Soundness"
      ],
      "metadata": {
        "id": "qOEJAMZMbpHm"
      }
    },
    {
      "cell_type": "code",
      "source": [
        "for (x, y, z) in zip(btormc_array_results, export_array_results, array_categories):\n",
        "  mergedDF = pd.merge(x, y, how=\"outer\", on='base')\n",
        "  if 'status' in y.columns:\n",
        "    print (z, ': ', isBtorSound(mergedDF))\n",
        "  else:\n",
        "    print (z, ' has no status column')\n",
        "\n",
        "  # if not isBtorSound(mergedDF):\n",
        "  #   print (mergedDF.query('status_x != status_y'))"
      ],
      "metadata": {
        "colab": {
          "base_uri": "https://localhost:8080/"
        },
        "id": "1LLgS4Z5OU2c",
        "outputId": "9e16b879-0643-44fe-a6bf-210c5291bcac"
      },
      "execution_count": null,
      "outputs": [
        {
          "output_type": "stream",
          "name": "stdout",
          "text": [
            "wolf/18A :  True\n",
            "wolf/19A :  False\n",
            "wolf/19B :  True\n",
            "wolf/19C :  False\n",
            "19/mann :  True\n",
            "20/mann :  True\n"
          ]
        }
      ]
    },
    {
      "cell_type": "code",
      "source": [
        "for (x, y, z) in zip(btormc_results, export_results, benchmark_categories):\n",
        "  mergedDF = pd.merge(x, y, how=\"outer\", on='base')\n",
        "  if 'status' in y.columns:\n",
        "    print (z, ': ', isBtorSound(mergedDF))\n",
        "  else:\n",
        "    print (z, ' has no status column')\n",
        "\n",
        "  if not isBtorSound(mergedDF):\n",
        "    print (mergedDF.query('status_x != status_y'))"
      ],
      "metadata": {
        "colab": {
          "base_uri": "https://localhost:8080/"
        },
        "id": "9V5RUTXMlhbG",
        "outputId": "073f8346-c022-4ef3-f0e6-b87a6c2f700d"
      },
      "execution_count": null,
      "outputs": [
        {
          "output_type": "stream",
          "name": "stdout",
          "text": [
            "wolf/18D :  True\n",
            "wolf/19A :  True\n",
            "wolf/19B :  True\n",
            "wolf/19C :  True\n",
            "beem :  False\n",
            "                                 base  btormc_time_x status_x  btormc_time_y  \\\n",
            "6  elevator.4.prop1-func-interl.btor2         1000.0  unknown          1.325   \n",
            "\n",
            "  status_y  \n",
            "6    unsat  \n",
            "goel :  True\n",
            "19/mann :  False\n",
            "                                   base  btormc_time_x status_x  \\\n",
            "15  arbitrated_top_n4_w128_d64_e0.btor2         1000.0  unknown   \n",
            "\n",
            "    btormc_time_y status_y  \n",
            "15        237.898    unsat  \n",
            "20/mann :  True\n"
          ]
        }
      ]
    },
    {
      "cell_type": "markdown",
      "source": [
        "### BVs"
      ],
      "metadata": {
        "id": "8GL-R0yYcBSC"
      }
    },
    {
      "cell_type": "code",
      "source": [
        "bv_dfs = list()\n",
        "for (btormc, export) in zip(btormc_results, export_results):\n",
        "  # if 'status' in export.columns:\n",
        "  export = export.rename(columns = {'btormc_time': 'export_time', 'status': 'export_status'})\n",
        "  df = pd.concat([btormc, export[['export_time', 'export_status']]], axis=1)\n",
        "  bv_dfs.append(df)"
      ],
      "metadata": {
        "id": "ILIx6N1cb_88"
      },
      "execution_count": null,
      "outputs": []
    },
    {
      "cell_type": "code",
      "source": [
        "bvDF = pd.DataFrame(columns=['base', 'bmc_time', 'bmc_unsat', 'bmc_sat', 'bmc_to',\n",
        "                                'export_time', 'export_unsat', 'export_sat', 'export_to'])\n",
        "# reportDF = pd.DataFrame()\n",
        "for (bDF, category) in zip(bv_dfs, benchmark_categories):\n",
        "  bvDF = printExportStats (bDF, bvDF, category)\n",
        "print (bvDF)\n",
        "bvDF.to_latex()"
      ],
      "metadata": {
        "id": "FkuZk16_cZK1",
        "colab": {
          "base_uri": "https://localhost:8080/"
        },
        "outputId": "a1a443e5-da62-4405-d50c-847d77634a22"
      },
      "execution_count": null,
      "outputs": [
        {
          "output_type": "stream",
          "name": "stdout",
          "text": [
            "       base  bmc_time bmc_unsat bmc_sat bmc_to  export_time export_unsat  \\\n",
            "0  wolf/18D   157.435        34       0      0      168.331           34   \n",
            "1  wolf/19A   146.381         0       1      0      151.409            0   \n",
            "2  wolf/19B     1.447         3       0      0        1.449            3   \n",
            "3  wolf/19C   834.101       108       0      0      797.297          108   \n",
            "4      beem   278.951         9       2      0      280.735           10   \n",
            "5      goel   190.757        26       2      0      176.535           26   \n",
            "6   19/mann  4442.889        29      15      0     4751.428           30   \n",
            "7   20/mann   257.304        10       5      0      268.405           10   \n",
            "\n",
            "  export_sat export_to  \n",
            "0          0         0  \n",
            "1          1         0  \n",
            "2          0         0  \n",
            "3          0         0  \n",
            "4          2         0  \n",
            "5          2         0  \n",
            "6         15         0  \n",
            "7          5         0  \n"
          ]
        },
        {
          "output_type": "stream",
          "name": "stderr",
          "text": [
            "<ipython-input-80-b4a1949984c4>:7: FutureWarning: In future versions `DataFrame.to_latex` is expected to utilise the base implementation of `Styler.to_latex` for formatting and rendering. The arguments signature may therefore change. It is recommended instead to use `DataFrame.style.to_latex` which also contains additional functionality.\n",
            "  bvDF.to_latex()\n"
          ]
        },
        {
          "output_type": "execute_result",
          "data": {
            "text/plain": [
              "'\\\\begin{tabular}{llrlllrlll}\\n\\\\toprule\\n{} &      base &  bmc\\\\_time & bmc\\\\_unsat & bmc\\\\_sat & bmc\\\\_to &  export\\\\_time & export\\\\_unsat & export\\\\_sat & export\\\\_to \\\\\\\\\\n\\\\midrule\\n0 &  wolf/18D &   157.435 &        34 &       0 &      0 &      168.331 &           34 &          0 &         0 \\\\\\\\\\n1 &  wolf/19A &   146.381 &         0 &       1 &      0 &      151.409 &            0 &          1 &         0 \\\\\\\\\\n2 &  wolf/19B &     1.447 &         3 &       0 &      0 &        1.449 &            3 &          0 &         0 \\\\\\\\\\n3 &  wolf/19C &   834.101 &       108 &       0 &      0 &      797.297 &          108 &          0 &         0 \\\\\\\\\\n4 &      beem &   278.951 &         9 &       2 &      0 &      280.735 &           10 &          2 &         0 \\\\\\\\\\n5 &      goel &   190.757 &        26 &       2 &      0 &      176.535 &           26 &          2 &         0 \\\\\\\\\\n6 &   19/mann &  4442.889 &        29 &      15 &      0 &     4751.428 &           30 &         15 &         0 \\\\\\\\\\n7 &   20/mann &   257.304 &        10 &       5 &      0 &      268.405 &           10 &          5 &         0 \\\\\\\\\\n\\\\bottomrule\\n\\\\end{tabular}\\n'"
            ],
            "application/vnd.google.colaboratory.intrinsic+json": {
              "type": "string"
            }
          },
          "metadata": {},
          "execution_count": 80
        }
      ]
    },
    {
      "cell_type": "markdown",
      "source": [
        "### Arrays\n"
      ],
      "metadata": {
        "id": "0eWIRn1d2jl2"
      }
    },
    {
      "cell_type": "code",
      "source": [
        "array_dfs = list()\n",
        "for (btormc, export) in zip(btormc_array_results, export_array_results):\n",
        "  if 'status' in export.columns:\n",
        "    export = export.rename(columns = {'btormc_time': 'export_time', 'status': 'export_status'})\n",
        "    df = pd.concat([btormc, export[['export_time', 'export_status']]], axis=1)\n",
        "  else:\n",
        "    df = btormc\n",
        "  array_dfs.append(df)\n",
        "# print (array_dfs)"
      ],
      "metadata": {
        "id": "qUWnQBck2okz"
      },
      "execution_count": null,
      "outputs": []
    },
    {
      "cell_type": "code",
      "source": [
        "arrayDF = pd.DataFrame(columns=['base', 'bmc_time', 'bmc_unsat', 'bmc_sat', 'bmc_to',\n",
        "                                'export_time', 'export_unsat', 'export_sat', 'export_to'])\n",
        "# reportDF = pd.DataFrame()\n",
        "for (bDF, category) in zip(array_dfs, array_categories):\n",
        "  arrayDF = printExportStats (bDF, arrayDF, category)\n",
        "print (arrayDF)\n",
        "arrayDF.to_latex()"
      ],
      "metadata": {
        "colab": {
          "base_uri": "https://localhost:8080/",
          "height": 437
        },
        "id": "hj48zrJg3BiT",
        "outputId": "d88ab78d-8319-4be3-b988-aad2add3adbe"
      },
      "execution_count": null,
      "outputs": [
        {
          "output_type": "stream",
          "name": "stdout",
          "text": [
            "       base  bmc_time bmc_unsat bmc_sat bmc_to  export_time export_unsat  \\\n",
            "0  wolf/18A    70.450        20       0      0       70.811           20   \n",
            "1  wolf/19A   281.384         0       1      0      782.959            0   \n",
            "2  wolf/19B     1.910         2       3      0        2.444            2   \n",
            "3  wolf/19C  6101.853       264       0      0        0.000            0   \n",
            "4   19/mann   125.795         1       1      0      138.131            1   \n",
            "5   20/mann    17.917         3       0      0       17.597            3   \n",
            "\n",
            "  export_sat export_to  \n",
            "0          0         0  \n",
            "1          3         0  \n",
            "2          3         0  \n",
            "3          0         0  \n",
            "4          1         0  \n",
            "5          0         0  \n"
          ]
        },
        {
          "output_type": "stream",
          "name": "stderr",
          "text": [
            "<ipython-input-82-cdfdc262dc4a>:7: FutureWarning: In future versions `DataFrame.to_latex` is expected to utilise the base implementation of `Styler.to_latex` for formatting and rendering. The arguments signature may therefore change. It is recommended instead to use `DataFrame.style.to_latex` which also contains additional functionality.\n",
            "  arrayDF.to_latex()\n"
          ]
        },
        {
          "output_type": "execute_result",
          "data": {
            "text/plain": [
              "'\\\\begin{tabular}{llrlllrlll}\\n\\\\toprule\\n{} &      base &  bmc\\\\_time & bmc\\\\_unsat & bmc\\\\_sat & bmc\\\\_to &  export\\\\_time & export\\\\_unsat & export\\\\_sat & export\\\\_to \\\\\\\\\\n\\\\midrule\\n0 &  wolf/18A &    70.450 &        20 &       0 &      0 &       70.811 &           20 &          0 &         0 \\\\\\\\\\n1 &  wolf/19A &   281.384 &         0 &       1 &      0 &      782.959 &            0 &          3 &         0 \\\\\\\\\\n2 &  wolf/19B &     1.910 &         2 &       3 &      0 &        2.444 &            2 &          3 &         0 \\\\\\\\\\n3 &  wolf/19C &  6101.853 &       264 &       0 &      0 &        0.000 &            0 &          0 &         0 \\\\\\\\\\n4 &   19/mann &   125.795 &         1 &       1 &      0 &      138.131 &            1 &          1 &         0 \\\\\\\\\\n5 &   20/mann &    17.917 &         3 &       0 &      0 &       17.597 &            3 &          0 &         0 \\\\\\\\\\n\\\\bottomrule\\n\\\\end{tabular}\\n'"
            ],
            "application/vnd.google.colaboratory.intrinsic+json": {
              "type": "string"
            }
          },
          "metadata": {},
          "execution_count": 82
        }
      ]
    },
    {
      "cell_type": "markdown",
      "source": [
        "## Scatter plot"
      ],
      "metadata": {
        "id": "Gjz-t75jsKBm"
      }
    },
    {
      "cell_type": "code",
      "source": [
        "import matplotlib.pyplot as plt\n",
        "\n",
        "def compare_values(columns, df_A, df_B):\n",
        "    vals_A = df_A[['base'] + list(columns)]\n",
        "    vals_B = df_B[['base'] + list(columns)]\n",
        "    merged = vals_A.merge(vals_B, how='inner', on='base')\n",
        "    return merged\n",
        "\n",
        "def scatter_values(column, df_A, df_B, titleA, titleB):\n",
        "    vals = compare_values((column, ), df_A, df_B)\n",
        "    xlabel = column + '_x'\n",
        "    ylabel = column + '_y'\n",
        "\n",
        "    xs = vals[xlabel]\n",
        "    ys = vals[ylabel]\n",
        "\n",
        "    min_val = min(0, min(xs), min(ys))\n",
        "    max_val = max(max(xs), max(ys), 30)\n",
        "    plt.xlim(min_val, max_val)\n",
        "    plt.ylim(min_val, max_val)\n",
        "\n",
        "    plt.scatter(xs, ys)\n",
        "    plt.gca().set_aspect('equal', adjustable='box')\n",
        "    plt.xlabel(titleA)\n",
        "    plt.ylabel(titleB)\n",
        "\n",
        "    mid_x = np.linspace(min_val, max_val, 2)\n",
        "    mid_y = mid_x\n",
        "    plt.plot(mid_x, mid_y, 'r-')\n",
        "    plt.title(f'{titleA} vs {titleB}')\n",
        "\n",
        "    plt.rcParams['figure.dpi'] = 160\n",
        "    plt.draw()\n"
      ],
      "metadata": {
        "id": "pdLY_-mCsNTf"
      },
      "execution_count": null,
      "outputs": []
    },
    {
      "cell_type": "code",
      "source": [
        "b20s = btormc_results[0]\n",
        "exports = export_results[0]\n",
        "for (btormc, export) in zip(btormc_results[1:], export_results[1:]):\n",
        "  b20s = pd.concat([b20s, btormc])\n",
        "  exports = pd.concat([exports, export])\n",
        "b20s.loc[b20s['btormc_time'] >= 1000, 'btormc_time'] = 350\n",
        "exports.loc[exports['btormc_time'] >= 1000, 'btormc_time'] = 350\n",
        "# exports"
      ],
      "metadata": {
        "id": "26JmEmMRsadb"
      },
      "execution_count": null,
      "outputs": []
    },
    {
      "cell_type": "code",
      "source": [
        "vcGenBtor = vc_18D[['base', 'vcGen_total']]\n",
        "vcGenBtor = pd.merge(vcGenBtor, btor_18D[['base', 'btor_time']], how='left', on='base')\n",
        "\n",
        "for (vcgen, boolector) in zip(vc_results[1:], btor_results[1:]):\n",
        "  temp = pd.merge(vcgen[['base', 'vcGen_total']], boolector[['base', 'btor_time']], how='left', on='base')\n",
        "  vcGenBtor = pd.concat([vcGenBtor, temp])\n",
        "vcGenBtor['btormc_time'] = vcGenBtor['vcGen_total'] + vcGenBtor['btor_time']\n",
        "vcGenBtor.loc[vcGenBtor['btormc_time'] >= 1000, 'btormc_time'] = 350\n",
        "# vcGenBtor"
      ],
      "metadata": {
        "id": "abbK9LEc9Uy-"
      },
      "execution_count": null,
      "outputs": []
    },
    {
      "cell_type": "code",
      "source": [
        "scatter_values('btormc_time', vcGenBtor, b20s, \"VCGen+Boolector\", \"BtorMC\")"
      ],
      "metadata": {
        "colab": {
          "base_uri": "https://localhost:8080/",
          "height": 472
        },
        "id": "ZCN3Ir7bBKur",
        "outputId": "26e823aa-c311-40fd-b313-259856000b13"
      },
      "execution_count": null,
      "outputs": [
        {
          "output_type": "display_data",
          "data": {
            "text/plain": [
              "<Figure size 640x480 with 1 Axes>"
            ],
            "image/png": "[encoded data removed]"
          },
          "metadata": {}
        }
      ]
    },
    {
      "cell_type": "code",
      "source": [
        "vcGenBtor.query('btormc_time > 180 and btormc_time < 200')"
      ],
      "metadata": {
        "colab": {
          "base_uri": "https://localhost:8080/",
          "height": 112
        },
        "id": "kU_-TyO-SgN9",
        "outputId": "7a40839a-83de-4454-9bce-8b64789cd515"
      },
      "execution_count": null,
      "outputs": [
        {
          "output_type": "execute_result",
          "data": {
            "text/plain": [
              "                                 base  vcGen_total  btor_time  btormc_time\n",
              "8             picorv32-check-p22.btor       189.16      9.071      198.231\n",
              "4  dspfilters_fastfir_second-p09.btor        14.80    178.743      193.543"
            ],
            "text/html": [
              "\n",
              "  <div id=\"df-a2232af2-c392-4429-b1c5-f419f193016d\">\n",
              "    <div class=\"colab-df-container\">\n",
              "      <div>\n",
              "<style scoped>\n",
              "    .dataframe tbody tr th:only-of-type {\n",
              "        vertical-align: middle;\n",
              "    }\n",
              "\n",
              "    .dataframe tbody tr th {\n",
              "        vertical-align: top;\n",
              "    }\n",
              "\n",
              "    .dataframe thead th {\n",
              "        text-align: right;\n",
              "    }\n",
              "</style>\n",
              "<table border=\"1\" class=\"dataframe\">\n",
              "  <thead>\n",
              "    <tr style=\"text-align: right;\">\n",
              "      <th></th>\n",
              "      <th>base</th>\n",
              "      <th>vcGen_total</th>\n",
              "      <th>btor_time</th>\n",
              "      <th>btormc_time</th>\n",
              "    </tr>\n",
              "  </thead>\n",
              "  <tbody>\n",
              "    <tr>\n",
              "      <th>8</th>\n",
              "      <td>picorv32-check-p22.btor</td>\n",
              "      <td>189.16</td>\n",
              "      <td>9.071</td>\n",
              "      <td>198.231</td>\n",
              "    </tr>\n",
              "    <tr>\n",
              "      <th>4</th>\n",
              "      <td>dspfilters_fastfir_second-p09.btor</td>\n",
              "      <td>14.80</td>\n",
              "      <td>178.743</td>\n",
              "      <td>193.543</td>\n",
              "    </tr>\n",
              "  </tbody>\n",
              "</table>\n",
              "</div>\n",
              "      <button class=\"colab-df-convert\" onclick=\"convertToInteractive('df-a2232af2-c392-4429-b1c5-f419f193016d')\"\n",
              "              title=\"Convert this dataframe to an interactive table.\"\n",
              "              style=\"display:none;\">\n",
              "        \n",
              "  <svg xmlns=\"http://www.w3.org/2000/svg\" height=\"24px\"viewBox=\"0 0 24 24\"\n",
              "       width=\"24px\">\n",
              "    <path d=\"M0 0h24v24H0V0z\" fill=\"none\"/>\n",
              "    <path d=\"M18.56 5.44l.94 2.06.94-2.06 2.06-.94-2.06-.94-.94-2.06-.94 2.06-2.06.94zm-11 1L8.5 8.5l.94-2.06 2.06-.94-2.06-.94L8.5 2.5l-.94 2.06-2.06.94zm10 10l.94 2.06.94-2.06 2.06-.94-2.06-.94-.94-2.06-.94 2.06-2.06.94z\"/><path d=\"M17.41 7.96l-1.37-1.37c-.4-.4-.92-.59-1.43-.59-.52 0-1.04.2-1.43.59L10.3 9.45l-7.72 7.72c-.78.78-.78 2.05 0 2.83L4 21.41c.39.39.9.59 1.41.59.51 0 1.02-.2 1.41-.59l7.78-7.78 2.81-2.81c.8-.78.8-2.07 0-2.86zM5.41 20L4 18.59l7.72-7.72 1.47 1.35L5.41 20z\"/>\n",
              "  </svg>\n",
              "      </button>\n",
              "      \n",
              "  <style>\n",
              "    .colab-df-container {\n",
              "      display:flex;\n",
              "      flex-wrap:wrap;\n",
              "      gap: 12px;\n",
              "    }\n",
              "\n",
              "    .colab-df-convert {\n",
              "      background-color: #E8F0FE;\n",
              "      border: none;\n",
              "      border-radius: 50%;\n",
              "      cursor: pointer;\n",
              "      display: none;\n",
              "      fill: #1967D2;\n",
              "      height: 32px;\n",
              "      padding: 0 0 0 0;\n",
              "      width: 32px;\n",
              "    }\n",
              "\n",
              "    .colab-df-convert:hover {\n",
              "      background-color: #E2EBFA;\n",
              "      box-shadow: 0px 1px 2px rgba(60, 64, 67, 0.3), 0px 1px 3px 1px rgba(60, 64, 67, 0.15);\n",
              "      fill: #174EA6;\n",
              "    }\n",
              "\n",
              "    [theme=dark] .colab-df-convert {\n",
              "      background-color: #3B4455;\n",
              "      fill: #D2E3FC;\n",
              "    }\n",
              "\n",
              "    [theme=dark] .colab-df-convert:hover {\n",
              "      background-color: #434B5C;\n",
              "      box-shadow: 0px 1px 3px 1px rgba(0, 0, 0, 0.15);\n",
              "      filter: drop-shadow(0px 1px 2px rgba(0, 0, 0, 0.3));\n",
              "      fill: #FFFFFF;\n",
              "    }\n",
              "  </style>\n",
              "\n",
              "      <script>\n",
              "        const buttonEl =\n",
              "          document.querySelector('#df-a2232af2-c392-4429-b1c5-f419f193016d button.colab-df-convert');\n",
              "        buttonEl.style.display =\n",
              "          google.colab.kernel.accessAllowed ? 'block' : 'none';\n",
              "\n",
              "        async function convertToInteractive(key) {\n",
              "          const element = document.querySelector('#df-a2232af2-c392-4429-b1c5-f419f193016d');\n",
              "          const dataTable =\n",
              "            await google.colab.kernel.invokeFunction('convertToInteractive',\n",
              "                                                     [key], {});\n",
              "          if (!dataTable) return;\n",
              "\n",
              "          const docLinkHtml = 'Like what you see? Visit the ' +\n",
              "            '<a target=\"_blank\" href=https://colab.research.google.com/notebooks/data_table.ipynb>data table notebook</a>'\n",
              "            + ' to learn more about interactive tables.';\n",
              "          element.innerHTML = '';\n",
              "          dataTable['output_type'] = 'display_data';\n",
              "          await google.colab.output.renderOutput(dataTable, element);\n",
              "          const docLink = document.createElement('div');\n",
              "          docLink.innerHTML = docLinkHtml;\n",
              "          element.appendChild(docLink);\n",
              "        }\n",
              "      </script>\n",
              "    </div>\n",
              "  </div>\n",
              "  "
            ]
          },
          "metadata": {},
          "execution_count": 35
        }
      ]
    },
    {
      "cell_type": "code",
      "source": [
        "df = b20s.query('btormc_time > 300')"
      ],
      "metadata": {
        "id": "eADuhBFqTl2w"
      },
      "execution_count": null,
      "outputs": []
    },
    {
      "cell_type": "code",
      "source": [
        "z3 = sea_18D[['base', 'seahorn_total']]\n",
        "z3 = z3.rename(columns = {'seahorn_total': 'btormc_time'})\n",
        "\n",
        "for sea in sea_results[1:]:\n",
        "  sea = sea.rename(columns = {'seahorn_total': 'btormc_time'})\n",
        "  z3 = pd.concat([z3, sea[['base', 'btormc_time']]])\n",
        "z3.loc[z3['btormc_time'] >= 1000, 'btormc_time'] = 350\n",
        "# z3"
      ],
      "metadata": {
        "id": "T__jgRGC__vZ"
      },
      "execution_count": null,
      "outputs": []
    },
    {
      "cell_type": "code",
      "source": [
        "scatter_values('btormc_time', z3, b20s, \"VCGen+Z3\", \"BtorMC\")"
      ],
      "metadata": {
        "colab": {
          "base_uri": "https://localhost:8080/",
          "height": 738
        },
        "id": "J29hH4ycGvMQ",
        "outputId": "cc137df6-38c9-479b-bb21-ac4e4f140310"
      },
      "execution_count": null,
      "outputs": [
        {
          "output_type": "display_data",
          "data": {
            "text/plain": [
              "<Figure size 1024x768 with 1 Axes>"
            ],
            "image/png": "[encoded data removed]"
          },
          "metadata": {}
        }
      ]
    },
    {
      "cell_type": "code",
      "source": [
        "df = b20s.query('btormc_time > 300')\n",
        "df2 = z3.query('btormc_time < 20')\n",
        "df3 = pd.merge(df, df2, how='inner', on='base')\n",
        "df3"
      ],
      "metadata": {
        "colab": {
          "base_uri": "https://localhost:8080/",
          "height": 81
        },
        "id": "lLift_yeHQj6",
        "outputId": "9d4ac071-b882-41a3-89a6-817f9535ff62"
      },
      "execution_count": null,
      "outputs": [
        {
          "output_type": "execute_result",
          "data": {
            "text/plain": [
              "                                 base  btormc_time_x   status  btormc_time_y\n",
              "0  elevator.4.prop1-func-interl.btor2          350.0  unknown           1.93"
            ],
            "text/html": [
              "\n",
              "  <div id=\"df-2a90bbe1-494d-496b-b7fb-eb39db3a1845\">\n",
              "    <div class=\"colab-df-container\">\n",
              "      <div>\n",
              "<style scoped>\n",
              "    .dataframe tbody tr th:only-of-type {\n",
              "        vertical-align: middle;\n",
              "    }\n",
              "\n",
              "    .dataframe tbody tr th {\n",
              "        vertical-align: top;\n",
              "    }\n",
              "\n",
              "    .dataframe thead th {\n",
              "        text-align: right;\n",
              "    }\n",
              "</style>\n",
              "<table border=\"1\" class=\"dataframe\">\n",
              "  <thead>\n",
              "    <tr style=\"text-align: right;\">\n",
              "      <th></th>\n",
              "      <th>base</th>\n",
              "      <th>btormc_time_x</th>\n",
              "      <th>status</th>\n",
              "      <th>btormc_time_y</th>\n",
              "    </tr>\n",
              "  </thead>\n",
              "  <tbody>\n",
              "    <tr>\n",
              "      <th>0</th>\n",
              "      <td>elevator.4.prop1-func-interl.btor2</td>\n",
              "      <td>350.0</td>\n",
              "      <td>unknown</td>\n",
              "      <td>1.93</td>\n",
              "    </tr>\n",
              "  </tbody>\n",
              "</table>\n",
              "</div>\n",
              "      <button class=\"colab-df-convert\" onclick=\"convertToInteractive('df-2a90bbe1-494d-496b-b7fb-eb39db3a1845')\"\n",
              "              title=\"Convert this dataframe to an interactive table.\"\n",
              "              style=\"display:none;\">\n",
              "        \n",
              "  <svg xmlns=\"http://www.w3.org/2000/svg\" height=\"24px\"viewBox=\"0 0 24 24\"\n",
              "       width=\"24px\">\n",
              "    <path d=\"M0 0h24v24H0V0z\" fill=\"none\"/>\n",
              "    <path d=\"M18.56 5.44l.94 2.06.94-2.06 2.06-.94-2.06-.94-.94-2.06-.94 2.06-2.06.94zm-11 1L8.5 8.5l.94-2.06 2.06-.94-2.06-.94L8.5 2.5l-.94 2.06-2.06.94zm10 10l.94 2.06.94-2.06 2.06-.94-2.06-.94-.94-2.06-.94 2.06-2.06.94z\"/><path d=\"M17.41 7.96l-1.37-1.37c-.4-.4-.92-.59-1.43-.59-.52 0-1.04.2-1.43.59L10.3 9.45l-7.72 7.72c-.78.78-.78 2.05 0 2.83L4 21.41c.39.39.9.59 1.41.59.51 0 1.02-.2 1.41-.59l7.78-7.78 2.81-2.81c.8-.78.8-2.07 0-2.86zM5.41 20L4 18.59l7.72-7.72 1.47 1.35L5.41 20z\"/>\n",
              "  </svg>\n",
              "      </button>\n",
              "      \n",
              "  <style>\n",
              "    .colab-df-container {\n",
              "      display:flex;\n",
              "      flex-wrap:wrap;\n",
              "      gap: 12px;\n",
              "    }\n",
              "\n",
              "    .colab-df-convert {\n",
              "      background-color: #E8F0FE;\n",
              "      border: none;\n",
              "      border-radius: 50%;\n",
              "      cursor: pointer;\n",
              "      display: none;\n",
              "      fill: #1967D2;\n",
              "      height: 32px;\n",
              "      padding: 0 0 0 0;\n",
              "      width: 32px;\n",
              "    }\n",
              "\n",
              "    .colab-df-convert:hover {\n",
              "      background-color: #E2EBFA;\n",
              "      box-shadow: 0px 1px 2px rgba(60, 64, 67, 0.3), 0px 1px 3px 1px rgba(60, 64, 67, 0.15);\n",
              "      fill: #174EA6;\n",
              "    }\n",
              "\n",
              "    [theme=dark] .colab-df-convert {\n",
              "      background-color: #3B4455;\n",
              "      fill: #D2E3FC;\n",
              "    }\n",
              "\n",
              "    [theme=dark] .colab-df-convert:hover {\n",
              "      background-color: #434B5C;\n",
              "      box-shadow: 0px 1px 3px 1px rgba(0, 0, 0, 0.15);\n",
              "      filter: drop-shadow(0px 1px 2px rgba(0, 0, 0, 0.3));\n",
              "      fill: #FFFFFF;\n",
              "    }\n",
              "  </style>\n",
              "\n",
              "      <script>\n",
              "        const buttonEl =\n",
              "          document.querySelector('#df-2a90bbe1-494d-496b-b7fb-eb39db3a1845 button.colab-df-convert');\n",
              "        buttonEl.style.display =\n",
              "          google.colab.kernel.accessAllowed ? 'block' : 'none';\n",
              "\n",
              "        async function convertToInteractive(key) {\n",
              "          const element = document.querySelector('#df-2a90bbe1-494d-496b-b7fb-eb39db3a1845');\n",
              "          const dataTable =\n",
              "            await google.colab.kernel.invokeFunction('convertToInteractive',\n",
              "                                                     [key], {});\n",
              "          if (!dataTable) return;\n",
              "\n",
              "          const docLinkHtml = 'Like what you see? Visit the ' +\n",
              "            '<a target=\"_blank\" href=https://colab.research.google.com/notebooks/data_table.ipynb>data table notebook</a>'\n",
              "            + ' to learn more about interactive tables.';\n",
              "          element.innerHTML = '';\n",
              "          dataTable['output_type'] = 'display_data';\n",
              "          await google.colab.output.renderOutput(dataTable, element);\n",
              "          const docLink = document.createElement('div');\n",
              "          docLink.innerHTML = docLinkHtml;\n",
              "          element.appendChild(docLink);\n",
              "        }\n",
              "      </script>\n",
              "    </div>\n",
              "  </div>\n",
              "  "
            ]
          },
          "metadata": {},
          "execution_count": 39
        }
      ]
    },
    {
      "cell_type": "code",
      "source": [
        "scatter_values('btormc_time', z3, vcGenBtor, \"VCGen+Z3\", \"VCGen+Boolector\")"
      ],
      "metadata": {
        "colab": {
          "base_uri": "https://localhost:8080/",
          "height": 738
        },
        "id": "zgvLsgKcWFhh",
        "outputId": "be0cbdb4-5deb-4880-ccca-2a893ee21c9a"
      },
      "execution_count": null,
      "outputs": [
        {
          "output_type": "display_data",
          "data": {
            "text/plain": [
              "<Figure size 1024x768 with 1 Axes>"
            ],
            "image/png": "[encoded data removed]"
          },
          "metadata": {}
        }
      ]
    }
  ]
}